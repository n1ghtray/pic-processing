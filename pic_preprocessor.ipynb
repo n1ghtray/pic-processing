{
 "cells": [
  {
   "cell_type": "code",
   "execution_count": 1,
   "id": "49b34586-bd51-4902-afb9-71d71a1eb256",
   "metadata": {},
   "outputs": [],
   "source": [
    "import numpy as np\n",
    "from PIL import Image\n",
    "import argparse\n",
    "from pathlib import Path"
   ]
  },
  {
   "cell_type": "code",
   "execution_count": 2,
   "id": "9806d097-8938-4283-8389-dd621c519c54",
   "metadata": {},
   "outputs": [],
   "source": [
    "def apply_floyd_steinberg_dithering(gray_array):\n",
    "    \"\"\"Apply Floyd-Steinberg dithering to a grayscale 2D array (0–255).\"\"\"\n",
    "    gray_array = gray_array.astype(np.float32)\n",
    "    height, width = gray_array.shape\n",
    "\n",
    "    for y in range(height):\n",
    "        for x in range(width):\n",
    "            old = gray_array[y, x]\n",
    "            new = 255 if old > 127 else 0\n",
    "            gray_array[y, x] = new\n",
    "            error = old - new\n",
    "\n",
    "            if x + 1 < width:\n",
    "                gray_array[y, x + 1] += error * (7 / 16)\n",
    "            if x - 1 >= 0 and y + 1 < height:\n",
    "                gray_array[y + 1, x - 1] += error * (3 / 16)\n",
    "            if y + 1 < height:\n",
    "                gray_array[y + 1, x] += error * (5 / 16)\n",
    "            if x + 1 < width and y + 1 < height:\n",
    "                gray_array[y + 1, x + 1] += error * (1 / 16)\n",
    "\n",
    "    return np.clip(gray_array, 0, 255).astype(np.uint8)"
   ]
  },
  {
   "cell_type": "code",
   "execution_count": 3,
   "id": "322ae475-b465-4e73-9c2f-c520bc04ce8d",
   "metadata": {},
   "outputs": [],
   "source": [
    "def dither_image_to_cmyk(image):\n",
    "    \"\"\"Convert image to CMYK and apply dithering to each channel.\"\"\"\n",
    "    cmyk_image = image.convert('CMYK')\n",
    "    c, m, y, k = cmyk_image.split()\n",
    "\n",
    "    c = apply_floyd_steinberg_dithering(np.array(c))\n",
    "    m = apply_floyd_steinberg_dithering(np.array(m))\n",
    "    y = apply_floyd_steinberg_dithering(np.array(y))\n",
    "    k = apply_floyd_steinberg_dithering(np.array(k))\n",
    "\n",
    "    return c, m, y, k"
   ]
  },
  {
   "cell_type": "code",
   "execution_count": 4,
   "id": "9809f77d-dc83-4ea4-89ec-c739196e97e5",
   "metadata": {},
   "outputs": [],
   "source": [
    "def save_cmyk_tiff(c, m, y, k, output_path):\n",
    "    \"\"\"Save CMYK channels as a CMYK TIFF image.\"\"\"\n",
    "    cmyk_array = np.stack([c, m, y, k], axis=-1)\n",
    "    image = Image.fromarray(cmyk_array, mode='CMYK')\n",
    "    image.save(output_path, format='TIFF')\n",
    "    print(f\"Saved: {output_path}\")"
   ]
  },
  {
   "cell_type": "code",
   "execution_count": 5,
   "id": "ed95f7b5-b3b2-4f13-907a-d2595aa406bd",
   "metadata": {},
   "outputs": [],
   "source": [
    "def process_single_file(input_path, output_path):\n",
    "    \"\"\"Process a single image file and save as CMYK TIFF.\"\"\"\n",
    "    image = Image.open(input_path)\n",
    "    c, m, y, k = dither_image_to_cmyk(image)\n",
    "    save_cmyk_tiff(c, m, y, k, output_path)"
   ]
  },
  {
   "cell_type": "code",
   "execution_count": 6,
   "id": "47c606e4-513e-47be-896b-d7d39f9dd4af",
   "metadata": {},
   "outputs": [],
   "source": [
    "def process_folder(input_folder, output_folder):\n",
    "    \"\"\"Process all supported images in a folder.\"\"\"\n",
    "    input_folder = Path(input_folder)\n",
    "    output_folder = Path(output_folder)\n",
    "    output_folder.mkdir(parents=True, exist_ok=True)\n",
    "\n",
    "    supported = {\".png\", \".jpg\", \".jpeg\", \".bmp\", \".tif\", \".tiff\"}\n",
    "\n",
    "    for file in input_folder.iterdir():\n",
    "        if file.suffix.lower() in supported:\n",
    "            output_file = output_folder / f\"{file.stem}_cmyk.tiff\"\n",
    "            print(f\"Processing: {file.name}\")\n",
    "            process_single_file(file, output_file)"
   ]
  },
  {
   "cell_type": "code",
   "execution_count": 7,
   "id": "95b3a4e1-4360-4a4e-a071-e4c481267ec9",
   "metadata": {},
   "outputs": [],
   "source": [
    "def main():\n",
    "    parser = argparse.ArgumentParser(description=\"Dither RGB image to CMYK using Floyd-Steinberg and save as TIFF.\")\n",
    "    parser.add_argument(\"input\", help=\"Input image file or folder\")\n",
    "    parser.add_argument(\"output\", help=\"Output TIFF path or folder (for batch)\")\n",
    "\n",
    "    args = parser.parse_args()\n",
    "    input_path = Path(args.input)\n",
    "\n",
    "    if input_path.is_file():\n",
    "        process_single_file(input_path, Path(args.output))\n",
    "    elif input_path.is_dir():\n",
    "        process_folder(input_path, args.output)\n",
    "    else:\n",
    "        raise FileNotFoundError(f\"Input not found: {args.input}\")"
   ]
  },
  {
   "cell_type": "code",
   "execution_count": 8,
   "id": "0ad328e8-7c78-4ecd-b17d-3334c35ce939",
   "metadata": {},
   "outputs": [
    {
     "name": "stdout",
     "output_type": "stream",
     "text": [
      "Saved: lucy.tiff\n"
     ]
    }
   ],
   "source": [
    "process_single_file(\"lucy.png\",\"lucy.tiff\")"
   ]
  },
  {
   "cell_type": "code",
   "execution_count": null,
   "id": "cfc2ec80-2576-4140-b8dd-c53156ef6da5",
   "metadata": {},
   "outputs": [],
   "source": []
  }
 ],
 "metadata": {
  "kernelspec": {
   "display_name": "Python 3 (ipykernel)",
   "language": "python",
   "name": "python3"
  },
  "language_info": {
   "codemirror_mode": {
    "name": "ipython",
    "version": 3
   },
   "file_extension": ".py",
   "mimetype": "text/x-python",
   "name": "python",
   "nbconvert_exporter": "python",
   "pygments_lexer": "ipython3",
   "version": "3.13.3"
  }
 },
 "nbformat": 4,
 "nbformat_minor": 5
}
