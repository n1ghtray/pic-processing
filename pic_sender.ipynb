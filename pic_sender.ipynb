{
 "cells": [
  {
   "cell_type": "code",
   "execution_count": 1,
   "id": "afc88eee-37a4-43f7-a450-abd70a2d4634",
   "metadata": {},
   "outputs": [],
   "source": [
    "import json\n",
    "import serial\n",
    "import time\n",
    "import argparse\n",
    "from pathlib import Path"
   ]
  },
  {
   "cell_type": "code",
   "execution_count": 2,
   "id": "039d5ed7-33d4-4734-b1ee-9fa70cf539d4",
   "metadata": {},
   "outputs": [],
   "source": [
    "with open('output.json', 'r', encoding='utf-8') as json_file:\n",
    "    pic_data = json.load(json_file)"
   ]
  },
  {
   "cell_type": "code",
   "execution_count": 3,
   "id": "63952181-e554-4582-a118-7a8a398e8e9a",
   "metadata": {},
   "outputs": [],
   "source": [
    "num_slices = len(pic_data['slices'])"
   ]
  },
  {
   "cell_type": "code",
   "execution_count": 4,
   "id": "a22a3315-60b4-457e-8d83-7c9dd8412aa7",
   "metadata": {},
   "outputs": [],
   "source": [
    "slice_to_send = 0\n",
    "serial_port = 'COM6'"
   ]
  },
  {
   "cell_type": "code",
   "execution_count": 8,
   "id": "ce121b94-20d3-48d0-ad8f-cbae88dd4b39",
   "metadata": {},
   "outputs": [],
   "source": [
    "ser = serial.Serial(serial_port, 115200, timeout=1)\n",
    "ser.write(\"CLEAR_DYNAMIC_ARRAY\\n\".encode())\n",
    "time.sleep(0.1)\n",
    "ser.write(\"DEBUG_SET_GPIO_P_MASK 0xFFFC000000\\n\".encode())\n",
    "time.sleep(0.1)\n",
    "for row in pic_data['slices'][2]:\n",
    "    ser.write(\"SET_DYNAMIC_ARRAY_DATA {}\\n\".format(row).encode())\n",
    "    time.sleep(0.001)\n",
    "ser.close()"
   ]
  },
  {
   "cell_type": "code",
   "execution_count": null,
   "id": "31b6a937-ad03-446a-896d-543755d9c7b3",
   "metadata": {},
   "outputs": [],
   "source": []
  }
 ],
 "metadata": {
  "kernelspec": {
   "display_name": "Python 3 (ipykernel)",
   "language": "python",
   "name": "python3"
  },
  "language_info": {
   "codemirror_mode": {
    "name": "ipython",
    "version": 3
   },
   "file_extension": ".py",
   "mimetype": "text/x-python",
   "name": "python",
   "nbconvert_exporter": "python",
   "pygments_lexer": "ipython3",
   "version": "3.13.3"
  }
 },
 "nbformat": 4,
 "nbformat_minor": 5
}
