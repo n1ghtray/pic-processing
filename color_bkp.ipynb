{
 "cells": [
  {
   "cell_type": "code",
   "execution_count": 1,
   "id": "a6f47c4e-8ead-4767-bdbb-106d17107b68",
   "metadata": {},
   "outputs": [],
   "source": [
    "from PIL import Image\n",
    "import numpy as np\n",
    "import json\n",
    "import serial\n",
    "import time"
   ]
  },
  {
   "cell_type": "code",
   "execution_count": 2,
   "id": "2661d861-04d9-4f87-9587-5fe87cb5c3db",
   "metadata": {},
   "outputs": [],
   "source": [
    "black_45_address_primitive_table = [(1,1),(2,9),(1,16),(2,2),(1,9),(2,17),(1,2),(2,10),(1,17),(2,3),(1,10),(2,18),(1,3),(2,11),(1,18),(2,4),(1,11),(2,19),(1,4),(2,12),(1,19),(2,5),(1,12),(2,20),(1,5),(2,13),(1,20),(2,6),(1,13),(2,21),(1,6),(2,14),(1,21),(2,7),(1,14),(2,22),(1,17),(2,15),(1,22),(2,8),(3,15),(4,1),(3,8),(4,13),(3,1),(4,9),(3,16),(4,2),(3,9),(4,17),(3,2),(4,10),(3,17),(4,3),(3,10),(4,18),(3,3),(4,11),(3,18),(4,4),(3,11),(4,19),(3,4),(4,12),(3,19),(4,5),(3,12),(4,20),(3,5),(4,13),(3,20),(4,6),(3,13),(4,21),(3,6),(4,14),(3,21),(4,7),(3,14),(4,22),(3,7),(4,15),(3,22),(4,8),(5,15),(6,1),(5,8),(6,16),(5,1),(6,9),(5,16),(6,2),(5,9),(6,17),(5,2),(6,10),(5,17),(6,3),(5,10),(6,18),(5,3),(6,11),(5,18),(6,4),(5,11),(6,19),(5,4),(6,12),(5,19),(6,5),(5,12),(6,20),(5,5),(6,13),(5,20),(6,6),(5,13),(6,21),(5,6),(6,14),(5,21),(6,7),(5,14),(6,22),(5,7),(6,15),(5,22),(6,8),(7,15),(8,1),(7,8),(8,16),(7,1),(8,9),(7,16),(8,2),(7,9),(8,17),(7,2),(8,10),(7,17),(8,3),(7,10),(8,18),(7,3),(8,11),(7,18),(8,4),(7,11),(8,19),(7,4),(8,12),(7,19),(8,5),(7,12),(8,20),(7,5),(8,13),(7,20),(8,6),(7,13),(8,21),(7,6),(8,14),(7,21),(8,7),(7,14),(8,22),(7,7),(8,15),(7,1),(8,8),(9,16),(10,1),(9,8),(10,16),(9,1),(10,9),(9,16),(10,2),(9,9),(10,17),(9,2),(10,10),(9,19),(10,3),(9,10),(10,18),(9,3),(10,11),(9,18),(10,4),(9,11),(10,19),(9,4),(10,12),(9,19),(10,5),(9,12),(10,20),(9,5),(10,13),(9,20),(10,6),(9,13),(10,21),(9,6),(10,14),(9,21),(10,7),(9,14),(10,22),(9,7),(10,15),(9,22),(10,8),(11,15),(12,1),(11,8),(12,16),(11,1),(12,9),(11,16),(12,2),(11,9),(12,17),(11,2),(12,10),(11,17),(12,3),(11,10),(12,18),(11,3),(12,11),(11,18),(12,4),(11,11),(12,19),(11,4),(12,12),(11,19),(12,5),(11,12),(12,22),(11,5),(12,13),(11,20),(12,6),(11,13),(12,21),(11,6),(12,14),(11,21),(12,7),(11,14),(12,22),(11,7),(12,15),(11,22),(12,8),(13,15),(14,1),(13,8),(14,16),(13,1),(14,9),(13,16),(14,2),(13,9),(14,17),(13,2),(14,10),(13,17),(14,3),(13,10),(14,18),(13,3),(14,11),(13,18),(14,4),(13,11),(14,19),(13,4),(14,12),(13,19),(14,5),(13,12),(14,20),(13,5),(14,13),(13,20),(14,6),(13,13),(14,21),(13,6),(14,14),(13,21),(14,7),(13,14),(14,21)]\n",
    "cyan_23_address_primitive_table=[(11,16),(13,6),(11,5),(13,11),(11,10),(13,16),(11,15),(13,5),(11,4),(13,10),(11,9),(13,15),(11,14),(13,4),(11,3),(13,9),(11,8),(13,14),(11,13),(13,3),(11,2),(13,8),(11,7),(13,13),(11,12),(13,2),(11,1),(13,7),(11,6),(13,12),(11,11),(13,1),(1,6),(3,16),(1,11),(3,5),(1,16),(3,10),(1,5),(3,15),(1,10),(3,4),(1,15),(3,9),(1,4),(3,14),(1,9),(3,3),(1,14),(3,8),(1,3),(3,13),(1,8),(3,2),(1,13),(3,7),(1,2),(3,12),(1,7),(3,1),(1,12),(3,6),(1,1),(3,11)]\n",
    "yellow_23_address_primitive_table=[(12,6),(14,16),(12,11),(14,5),(12,16),(14,10),(12,5),(14,15),(12,10),(14,4),(12,15),(14,9),(12,4),(14,14),(12,9),(14,3),(12,14),(14,8),(12,3),(14,13),(12,8),(14,2),(12,13),(14,7),(12,2),(14,12),(12,7),(14,1),(12,12),(14,6),(12,1),(14,11),(2,16),(4,6),(2,5),(4,11),(2,10),(4,16),(2,15),(4,5),(2,4),(4,10),(2,9),(4,15),(2,14),(4,4),(2,3),(4,9),(2,8),(4,14),(2,13),(4,3),(2,2),(4,8),(2,7),(4,13),(2,12),(4,2),(2,1),(4,7),(2,6),(4,12),(2,11),(4,1)]\n",
    "magenta_23_address_primitive_table=[(9,6),(10,16),(9,11),(10,5),(9,16),(10,10),(9,5),(10,15),(9,10),(10,4),(9,15),(10,9),(9,4),(10,14),(9,9),(10,3),(9,14),(10,8),(9,3),(10,13),(9,8),(10,2),(9,13),(10,7),(9,2),(10,12),(9,7),(10,1),(9,12),(10,6),(9,1),(10,11),(5,6),(6,16),(5,11),(6,5),(5,16),(6,10),(5,5),(6,15),(5,10),(6,4),(5,15),(6,9),(5,4),(6,14),(5,9),(6,3),(5,14),(6,8),(5,3),(6,13),(5,8),(6,2),(5,13),(6,7),(5,2),(6,12),(5,7),(6,1),(5,12),(6,6),(5,1),(6,11)]"
   ]
  },
  {
   "cell_type": "code",
   "execution_count": 3,
   "id": "b7141c32-d9ce-4a66-bc3a-b0ca58c792be",
   "metadata": {},
   "outputs": [],
   "source": [
    "def floyd_steinberg_dithering(img_array):\n",
    "    img_array = img_array.astype(np.float32)\n",
    "    height, width = img_array.shape\n",
    "\n",
    "    for y in range(height):\n",
    "        for x in range(width):\n",
    "            old_pixel = img_array[y, x]\n",
    "            new_pixel = 255 if old_pixel > 127 else 0\n",
    "            img_array[y, x] = new_pixel\n",
    "            quant_error = old_pixel - new_pixel\n",
    "\n",
    "            if x + 1 < width:\n",
    "                img_array[y, x + 1] += quant_error * (7 / 16)\n",
    "            if x - 1 >= 0 and y + 1 < height:\n",
    "                img_array[y + 1, x - 1] += quant_error * (3 / 16)\n",
    "            if y + 1 < height:\n",
    "                img_array[y + 1, x] += quant_error * (5 / 16)\n",
    "            if x + 1 < width and y + 1 < height:\n",
    "                img_array[y + 1, x + 1] += quant_error * (1 / 16)\n",
    "\n",
    "    return np.clip(img_array, 0, 255).astype(np.uint8)"
   ]
  },
  {
   "cell_type": "code",
   "execution_count": 4,
   "id": "b37f65d7-2fe5-4510-8a62-cdf95d7fbbdb",
   "metadata": {},
   "outputs": [],
   "source": [
    "def dither(img):\n",
    "    cmyk_img = img.convert('CMYK')\n",
    "    c, m, y, k = cmyk_img.split()\n",
    "    \n",
    "    c_array = np.array(c)\n",
    "    m_array = np.array(m)\n",
    "    y_array = np.array(y)\n",
    "    k_array = np.array(k)\n",
    "    \n",
    "    dithered_c_channel = floyd_steinberg_dithering(c_array)\n",
    "    dithered_m_channel = floyd_steinberg_dithering(m_array)\n",
    "    dithered_y_channel = floyd_steinberg_dithering(y_array)\n",
    "    dithered_k_channel = floyd_steinberg_dithering(k_array)\n",
    "    \n",
    "    #cmyk_array = np.stack([dithered_c_channel, dithered_m_channel, dithered_y_channel, dithered_k_channel], axis=-1)\n",
    "    #Image.fromarray(cmyk_array, mode=\"CMYK\").convert(\"RGB\").save(\"{}_dithered.png\".format(image_path))\n",
    "\n",
    "    return dithered_c_channel, dithered_m_channel, dithered_y_channel #cmyk_array"
   ]
  },
  {
   "cell_type": "code",
   "execution_count": 5,
   "id": "283539d7-177f-4d1f-b072-da06e6d0ca26",
   "metadata": {},
   "outputs": [],
   "source": [
    "def encode(row_trigger):\n",
    "    return_string = \"\"\n",
    "    for a in row_trigger:\n",
    "        if a != []:\n",
    "            return_value = 0b0000000000000000\n",
    "            for p in a:\n",
    "                return_value = return_value | (1 << p)\n",
    "            #return_string += (hex(return_value)) + \" \"\n",
    "            return_string += (f\"{return_value:04x}\") + \" \"\n",
    "        else:\n",
    "            return_string += (f\"{0x0000:04x}\") + \" \"\n",
    "    return return_string[:-1]"
   ]
  },
  {
   "cell_type": "code",
   "execution_count": 6,
   "id": "c3c754be-5904-4333-8566-ee73824d4f1b",
   "metadata": {},
   "outputs": [],
   "source": [
    "img = Image.open(\"pics/rgb.png\")\n",
    "image_width, image_height = img.size\n",
    "slice_height = 64"
   ]
  },
  {
   "cell_type": "code",
   "execution_count": 7,
   "id": "80ec4479-208a-4a11-b10f-e3cd0dfbfce1",
   "metadata": {},
   "outputs": [],
   "source": [
    "dithered_c_channel, dithered_m_channel, dithered_y_channel = dither(img)"
   ]
  },
  {
   "cell_type": "code",
   "execution_count": 8,
   "id": "2e03ed74-cfd5-425e-9ff5-fdc6158e7f9e",
   "metadata": {},
   "outputs": [],
   "source": [
    "dithered_c_channel_binary_array = (dithered_c_channel > 0).astype(np.uint8)\n",
    "dithered_m_channel_binary_array = (dithered_m_channel > 0).astype(np.uint8)\n",
    "dithered_y_channel_binary_array = (dithered_y_channel > 0).astype(np.uint8)"
   ]
  },
  {
   "cell_type": "code",
   "execution_count": 9,
   "id": "40d09801-21db-45c6-bc51-47e08db17bf6",
   "metadata": {},
   "outputs": [],
   "source": [
    "slices_c = np.array_split(dithered_c_channel_binary_array, range(slice_height, dithered_c_channel_binary_array.shape[0], slice_height))\n",
    "slices_m = np.array_split(dithered_m_channel_binary_array, range(slice_height, dithered_m_channel_binary_array.shape[0], slice_height))\n",
    "slices_y = np.array_split(dithered_y_channel_binary_array, range(slice_height, dithered_y_channel_binary_array.shape[0], slice_height))"
   ]
  },
  {
   "cell_type": "code",
   "execution_count": 10,
   "id": "3169ce43-e143-4873-852d-da1486ecf60a",
   "metadata": {},
   "outputs": [],
   "source": [
    "padding_total = 165\n",
    "padding_between_colors = 42\n",
    "padding_between_rows = 20\n",
    "padded_c = [[]]\n",
    "padded_m = [[]]\n",
    "padded_y = [[]]\n",
    "padded_c[0] = np.pad(slices_c[0], ((0, 0), (padding_total, padding_total)), mode='constant', constant_values=0)\n",
    "padded_m[0] = np.pad(slices_m[0], ((0, 0), (padding_total, padding_total)), mode='constant', constant_values=0)\n",
    "padded_y[0] = np.pad(slices_y[0], ((0, 0), (padding_total, padding_total)), mode='constant', constant_values=0)"
   ]
  },
  {
   "cell_type": "code",
   "execution_count": 11,
   "id": "36eed91f-a7c3-4efb-a623-89417b8bb4ea",
   "metadata": {},
   "outputs": [],
   "source": [
    "list_slices = {}\n",
    "encoded_slices = [] #criar uma lista de todas as n colunas encodadas, sendo n a largura da imagem\n",
    "image_width_with_padding = image_width + padding_total + padding_total\n",
    "\n",
    "for image_column in range(image_width_with_padding):\n",
    "    c_left_row = []\n",
    "    c_right_row = []\n",
    "    m_left_row = []\n",
    "    m_right_row = []\n",
    "    y_left_row = []\n",
    "    y_right_row = []\n",
    "\n",
    "    c_left_row_index = image_column + padding_total\n",
    "    c_right_row_index = image_column + padding_total - padding_between_rows\n",
    "    m_left_row_index = image_column + padding_total - padding_between_rows - padding_between_colors\n",
    "    m_right_row_index = image_column + padding_total - padding_between_rows - padding_between_colors - padding_between_rows\n",
    "    y_left_row_index = image_column + padding_total - padding_between_rows - padding_between_colors - padding_between_rows - padding_between_colors\n",
    "    y_right_row_index = image_column + padding_total - padding_between_rows - padding_between_colors - padding_between_rows - padding_between_colors - padding_between_rows\n",
    "\n",
    "    row_trigger = [[],[],[],[],[],[],[],[],[],[],[],[],[],[],[],[],[],[],[],[],[],[]]\n",
    "\n",
    "    for column_pixel in range(slice_height): #se estiver no range possível\n",
    "        #print (\"c pixel ={}\".format(column_pixel))\n",
    "        if c_left_row_index < image_width_with_padding:\n",
    "\n",
    "            if (column_pixel) % 2 != 0:\n",
    "                if (column_pixel) >= 32:\n",
    "                    if (padded_c[0][:,c_right_row_index][column_pixel]):\n",
    "                        row_trigger[(cyan_23_address_primitive_table[column_pixel][1]) - 1].append(cyan_23_address_primitive_table[column_pixel][0] - 1)\n",
    "\n",
    "                    if (padded_m[0][:,m_right_row_index][column_pixel]):\n",
    "                        row_trigger[(magenta_23_address_primitive_table[column_pixel][1]) - 1].append(magenta_23_address_primitive_table[column_pixel][0] - 1)\n",
    "\n",
    "                    if (padded_y[0][:,y_left_row_index][column_pixel]):\n",
    "                        row_trigger[(yellow_23_address_primitive_table[column_pixel][1]) - 1].append(yellow_23_address_primitive_table[column_pixel][0] - 1)\n",
    "                \n",
    "                else:\n",
    "                    if (padded_c[0][:,c_left_row_index][column_pixel]):\n",
    "                        row_trigger[(cyan_23_address_primitive_table[column_pixel][1]) - 1].append(cyan_23_address_primitive_table[column_pixel][0] - 1)\n",
    "\n",
    "                    if (padded_m[0][:,m_right_row_index][column_pixel]):\n",
    "                        row_trigger[(magenta_23_address_primitive_table[column_pixel][1]) - 1].append(magenta_23_address_primitive_table[column_pixel][0] - 1)\n",
    "\n",
    "                    if (padded_y[0][:,y_right_row_index][column_pixel]):\n",
    "                        row_trigger[(yellow_23_address_primitive_table[column_pixel][1]) - 1].append(yellow_23_address_primitive_table[column_pixel][0] - 1)\n",
    "\n",
    "            if (column_pixel) % 2 == 0:\n",
    "                if (column_pixel) >= 32:\n",
    "                    if (padded_c[0][:,c_left_row_index][column_pixel]):\n",
    "                        row_trigger[(cyan_23_address_primitive_table[column_pixel][1]) - 1].append(cyan_23_address_primitive_table[column_pixel][0] - 1)\n",
    "\n",
    "                    if (padded_m[0][:,m_left_row_index][column_pixel]):\n",
    "                        row_trigger[(magenta_23_address_primitive_table[column_pixel][1]) - 1].append(magenta_23_address_primitive_table[column_pixel][0] - 1)\n",
    "\n",
    "                    if (padded_y[0][:,y_right_row_index][column_pixel]):\n",
    "                        row_trigger[(yellow_23_address_primitive_table[column_pixel][1]) - 1].append(yellow_23_address_primitive_table[column_pixel][0] - 1)\n",
    "                        \n",
    "                else:\n",
    "                    if (padded_c[0][:,c_right_row_index][column_pixel]):\n",
    "                        row_trigger[(cyan_23_address_primitive_table[column_pixel][1]) - 1].append(cyan_23_address_primitive_table[column_pixel][0] - 1)\n",
    "\n",
    "                    if (padded_m[0][:,m_left_row_index][column_pixel]):\n",
    "                        row_trigger[(magenta_23_address_primitive_table[column_pixel][1]) - 1].append(magenta_23_address_primitive_table[column_pixel][0] - 1)\n",
    "\n",
    "                    if (padded_y[0][:,y_left_row_index][column_pixel]):\n",
    "                        row_trigger[(yellow_23_address_primitive_table[column_pixel][1]) - 1].append(yellow_23_address_primitive_table[column_pixel][0] - 1)\n",
    "\n",
    "    encoded_slices.append(encode(row_trigger))\n",
    "\n",
    "list_slices[(str(0))] = encoded_slices"
   ]
  },
  {
   "cell_type": "code",
   "execution_count": 12,
   "id": "4309778a-f091-4ef2-97a7-6729e9b04d2f",
   "metadata": {},
   "outputs": [],
   "source": [
    "ser = serial.Serial('COM6', 115200, timeout=1)\n",
    "ser.write(\"CLEAR_PIC\\n\".encode())\n",
    "time.sleep(0.5)\n",
    "for row in list_slices['0']:\n",
    "    ser.write(\"SET_PIC 0x{} \\n\".format(row).encode())\n",
    "    time.sleep(0.001)\n",
    "ser.close()"
   ]
  }
 ],
 "metadata": {
  "kernelspec": {
   "display_name": "Python 3 (ipykernel)",
   "language": "python",
   "name": "python3"
  },
  "language_info": {
   "codemirror_mode": {
    "name": "ipython",
    "version": 3
   },
   "file_extension": ".py",
   "mimetype": "text/x-python",
   "name": "python",
   "nbconvert_exporter": "python",
   "pygments_lexer": "ipython3",
   "version": "3.13.3"
  }
 },
 "nbformat": 4,
 "nbformat_minor": 5
}
