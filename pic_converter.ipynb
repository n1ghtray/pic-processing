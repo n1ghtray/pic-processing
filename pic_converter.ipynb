{
 "cells": [
  {
   "cell_type": "code",
   "execution_count": 1,
   "id": "82bda6c9-7607-485c-993e-c47e7a5face7",
   "metadata": {},
   "outputs": [],
   "source": [
    "import numpy as np\n",
    "from PIL import Image\n",
    "import argparse\n",
    "from pathlib import Path\n",
    "import json"
   ]
  },
  {
   "cell_type": "code",
   "execution_count": 2,
   "id": "649f589a-1b55-43a3-9508-d99e36dd43f1",
   "metadata": {},
   "outputs": [],
   "source": [
    "def load_cmyk_image(tiff_path):\n",
    "    \"\"\"Open a CMYK TIFF and return the split C, M, Y, K channels as NumPy arrays.\"\"\"\n",
    "    image = Image.open(tiff_path).convert('CMYK')\n",
    "    c, m, y, k = image.split()\n",
    "    return map(np.array, (c, m, y, k))"
   ]
  },
  {
   "cell_type": "code",
   "execution_count": 3,
   "id": "fa60378a-8b0d-4da8-936d-2d4a7437ac21",
   "metadata": {},
   "outputs": [],
   "source": [
    "def convert_to_binary(channel_array):\n",
    "    \"\"\"Convert a grayscale channel (0–255) to a binary array (0 or 1).\"\"\"\n",
    "    return (channel_array > 0).astype(np.uint8)"
   ]
  },
  {
   "cell_type": "code",
   "execution_count": 20,
   "id": "b5e39bb4-ee10-4c7b-9a02-0c9b0b2e52c9",
   "metadata": {},
   "outputs": [],
   "source": [
    "def split_with_padding(arr, chunk_height, pad_value=0):\n",
    "    H = arr.shape[0]\n",
    "    num_chunks = int(np.ceil(H / chunk_height))\n",
    "    chunks = []\n",
    "\n",
    "    for i in range(num_chunks):\n",
    "        start = i * chunk_height\n",
    "        end = start + chunk_height\n",
    "        chunk = arr[start:end]\n",
    "\n",
    "        # Se o chunk for menor que o esperado, adiciona padding\n",
    "        if chunk.shape[0] < chunk_height:\n",
    "            pad_height = chunk_height - chunk.shape[0]\n",
    "            pad_shape = ((0, pad_height),) + tuple((0, 0) for _ in range(arr.ndim - 1))\n",
    "            chunk = np.pad(chunk, pad_shape, constant_values=pad_value)\n",
    "\n",
    "        chunks.append(np.flip(chunk, axis=1))\n",
    "\n",
    "    return chunks"
   ]
  },
  {
   "cell_type": "code",
   "execution_count": 15,
   "id": "733e7610-bebe-434e-8c28-f193a9659d8f",
   "metadata": {},
   "outputs": [],
   "source": [
    "def generate_print_data(slice_c, slice_m, slice_y):\n",
    "    encoded_slice = []\n",
    "    \n",
    "    for pic_column in range(image_width_with_padding):\n",
    "        \n",
    "        c_left_row = []\n",
    "        c_right_row = []\n",
    "        m_left_row = []\n",
    "        m_right_row = []\n",
    "        y_left_row = []\n",
    "        y_right_row = []\n",
    "        c_lr_index = pic_column + sum_pad_c_lr\n",
    "        c_rr_index = pic_column + sum_pad_c_rr\n",
    "        m_lr_index = pic_column + sum_pad_m_lr\n",
    "        m_rr_index = pic_column + sum_pad_m_rr\n",
    "        y_lr_index = pic_column + sum_pad_y_lr\n",
    "        y_rr_index = pic_column + sum_pad_y_rr\n",
    "        \n",
    "        row_trigger = [[],[],[],[],[],[],[],[],[],[],[],[],[],[],[],[],[],[],[],[],[],[]]\n",
    "    \n",
    "        for column_pixel in range(slice_height):\n",
    "            if c_lr_index < image_width_with_padding:\n",
    "    \n",
    "                if (column_pixel) % 2 != 0:\n",
    "                    if (column_pixel) >= 32:\n",
    "                        if (slice_c[:,c_rr_index][column_pixel]):\n",
    "                            row_trigger[(cyan_23_address_primitive_table[column_pixel][1]) - 1].append(cyan_23_address_primitive_table[column_pixel][0] - 1)\n",
    "                        if (slice_m[:,m_rr_index][column_pixel]):\n",
    "                            row_trigger[(magenta_23_address_primitive_table[column_pixel][1]) - 1].append(magenta_23_address_primitive_table[column_pixel][0] - 1)\n",
    "                        if (slice_y[:,y_lr_index][column_pixel]):\n",
    "                            row_trigger[(yellow_23_address_primitive_table[column_pixel][1]) - 1].append(yellow_23_address_primitive_table[column_pixel][0] - 1)\n",
    "                    else:\n",
    "                        if (slice_c[:,c_lr_index][column_pixel]):\n",
    "                            row_trigger[(cyan_23_address_primitive_table[column_pixel][1]) - 1].append(cyan_23_address_primitive_table[column_pixel][0] - 1)\n",
    "                        if (slice_m[:,m_rr_index][column_pixel]):\n",
    "                            row_trigger[(magenta_23_address_primitive_table[column_pixel][1]) - 1].append(magenta_23_address_primitive_table[column_pixel][0] - 1)\n",
    "                        if (slice_y[:,y_rr_index][column_pixel]):\n",
    "                            row_trigger[(yellow_23_address_primitive_table[column_pixel][1]) - 1].append(yellow_23_address_primitive_table[column_pixel][0] - 1)\n",
    "    \n",
    "                if (column_pixel) % 2 == 0:\n",
    "                    if (column_pixel) >= 32:\n",
    "                        if (slice_c[:,c_lr_index][column_pixel]):\n",
    "                            row_trigger[(cyan_23_address_primitive_table[column_pixel][1]) - 1].append(cyan_23_address_primitive_table[column_pixel][0] - 1)\n",
    "                        if (slice_m[:,m_lr_index][column_pixel]):\n",
    "                            row_trigger[(magenta_23_address_primitive_table[column_pixel][1]) - 1].append(magenta_23_address_primitive_table[column_pixel][0] - 1)\n",
    "                        if (slice_y[:,y_rr_index][column_pixel]):\n",
    "                            row_trigger[(yellow_23_address_primitive_table[column_pixel][1]) - 1].append(yellow_23_address_primitive_table[column_pixel][0] - 1)\n",
    "                    else:\n",
    "                        if (slice_c[:,c_rr_index][column_pixel]):\n",
    "                            row_trigger[(cyan_23_address_primitive_table[column_pixel][1]) - 1].append(cyan_23_address_primitive_table[column_pixel][0] - 1)\n",
    "                        if (slice_m[:,m_lr_index][column_pixel]):\n",
    "                            row_trigger[(magenta_23_address_primitive_table[column_pixel][1]) - 1].append(magenta_23_address_primitive_table[column_pixel][0] - 1)\n",
    "                        if (slice_y[:,y_lr_index][column_pixel]):\n",
    "                            row_trigger[(yellow_23_address_primitive_table[column_pixel][1]) - 1].append(yellow_23_address_primitive_table[column_pixel][0] - 1)\n",
    "    \n",
    "        encoded_slice.append(encode(row_trigger))\n",
    "    return encoded_slice"
   ]
  },
  {
   "cell_type": "code",
   "execution_count": 16,
   "id": "27405b77-5d01-4d7f-9cd9-15796bde26b9",
   "metadata": {},
   "outputs": [],
   "source": [
    "def encode(row_trigger):\n",
    "    return_string = \"\"\n",
    "    for a in row_trigger:\n",
    "        if a != []:\n",
    "            return_value = 0b0000000000000000\n",
    "            for p in a:\n",
    "                return_value = return_value | (1 << p)\n",
    "            #return_string += (hex(return_value)) + \" \"\n",
    "            return_string += (f\"{return_value:04x}\") + \" \"\n",
    "        else:\n",
    "            return_string += (f\"{0x0000:04x}\") + \" \"\n",
    "    return return_string[:-1]"
   ]
  },
  {
   "cell_type": "code",
   "execution_count": 17,
   "id": "7d98d6be-aef8-4ba3-a760-4dc19314746d",
   "metadata": {},
   "outputs": [],
   "source": [
    "def main():\n",
    "    parser = argparse.ArgumentParser(description=\"Extract binary CMYK arrays from a CMYK TIFF image.\")\n",
    "    parser.add_argument(\"input_tiff\", help=\"Path to the CMYK TIFF image\")\n",
    "\n",
    "    args = parser.parse_args()"
   ]
  },
  {
   "cell_type": "code",
   "execution_count": 18,
   "id": "c02fff37-055d-435d-abea-95d352d5b197",
   "metadata": {},
   "outputs": [],
   "source": [
    "slice_height = 64\n",
    "pad_total = 165\n",
    "pad_color = 42\n",
    "pad_rows = 20\n",
    "\n",
    "black_45_address_primitive_table = [(1,1),(2,9),(1,16),(2,2),(1,9),(2,17),(1,2),(2,10),(1,17),(2,3),(1,10),(2,18),(1,3),(2,11),(1,18),(2,4),(1,11),(2,19),(1,4),(2,12),(1,19),(2,5),(1,12),(2,20),(1,5),(2,13),(1,20),(2,6),(1,13),(2,21),(1,6),(2,14),(1,21),(2,7),(1,14),(2,22),(1,17),(2,15),(1,22),(2,8),(3,15),(4,1),(3,8),(4,13),(3,1),(4,9),(3,16),(4,2),(3,9),(4,17),(3,2),(4,10),(3,17),(4,3),(3,10),(4,18),(3,3),(4,11),(3,18),(4,4),(3,11),(4,19),(3,4),(4,12),(3,19),(4,5),(3,12),(4,20),(3,5),(4,13),(3,20),(4,6),(3,13),(4,21),(3,6),(4,14),(3,21),(4,7),(3,14),(4,22),(3,7),(4,15),(3,22),(4,8),(5,15),(6,1),(5,8),(6,16),(5,1),(6,9),(5,16),(6,2),(5,9),(6,17),(5,2),(6,10),(5,17),(6,3),(5,10),(6,18),(5,3),(6,11),(5,18),(6,4),(5,11),(6,19),(5,4),(6,12),(5,19),(6,5),(5,12),(6,20),(5,5),(6,13),(5,20),(6,6),(5,13),(6,21),(5,6),(6,14),(5,21),(6,7),(5,14),(6,22),(5,7),(6,15),(5,22),(6,8),(7,15),(8,1),(7,8),(8,16),(7,1),(8,9),(7,16),(8,2),(7,9),(8,17),(7,2),(8,10),(7,17),(8,3),(7,10),(8,18),(7,3),(8,11),(7,18),(8,4),(7,11),(8,19),(7,4),(8,12),(7,19),(8,5),(7,12),(8,20),(7,5),(8,13),(7,20),(8,6),(7,13),(8,21),(7,6),(8,14),(7,21),(8,7),(7,14),(8,22),(7,7),(8,15),(7,1),(8,8),(9,16),(10,1),(9,8),(10,16),(9,1),(10,9),(9,16),(10,2),(9,9),(10,17),(9,2),(10,10),(9,19),(10,3),(9,10),(10,18),(9,3),(10,11),(9,18),(10,4),(9,11),(10,19),(9,4),(10,12),(9,19),(10,5),(9,12),(10,20),(9,5),(10,13),(9,20),(10,6),(9,13),(10,21),(9,6),(10,14),(9,21),(10,7),(9,14),(10,22),(9,7),(10,15),(9,22),(10,8),(11,15),(12,1),(11,8),(12,16),(11,1),(12,9),(11,16),(12,2),(11,9),(12,17),(11,2),(12,10),(11,17),(12,3),(11,10),(12,18),(11,3),(12,11),(11,18),(12,4),(11,11),(12,19),(11,4),(12,12),(11,19),(12,5),(11,12),(12,22),(11,5),(12,13),(11,20),(12,6),(11,13),(12,21),(11,6),(12,14),(11,21),(12,7),(11,14),(12,22),(11,7),(12,15),(11,22),(12,8),(13,15),(14,1),(13,8),(14,16),(13,1),(14,9),(13,16),(14,2),(13,9),(14,17),(13,2),(14,10),(13,17),(14,3),(13,10),(14,18),(13,3),(14,11),(13,18),(14,4),(13,11),(14,19),(13,4),(14,12),(13,19),(14,5),(13,12),(14,20),(13,5),(14,13),(13,20),(14,6),(13,13),(14,21),(13,6),(14,14),(13,21),(14,7),(13,14),(14,21)]\n",
    "cyan_23_address_primitive_table=[(11,16),(13,6),(11,5),(13,11),(11,10),(13,16),(11,15),(13,5),(11,4),(13,10),(11,9),(13,15),(11,14),(13,4),(11,3),(13,9),(11,8),(13,14),(11,13),(13,3),(11,2),(13,8),(11,7),(13,13),(11,12),(13,2),(11,1),(13,7),(11,6),(13,12),(11,11),(13,1),(1,6),(3,16),(1,11),(3,5),(1,16),(3,10),(1,5),(3,15),(1,10),(3,4),(1,15),(3,9),(1,4),(3,14),(1,9),(3,3),(1,14),(3,8),(1,3),(3,13),(1,8),(3,2),(1,13),(3,7),(1,2),(3,12),(1,7),(3,1),(1,12),(3,6),(1,1),(3,11)]\n",
    "yellow_23_address_primitive_table=[(12,6),(14,16),(12,11),(14,5),(12,16),(14,10),(12,5),(14,15),(12,10),(14,4),(12,15),(14,9),(12,4),(14,14),(12,9),(14,3),(12,14),(14,8),(12,3),(14,13),(12,8),(14,2),(12,13),(14,7),(12,2),(14,12),(12,7),(14,1),(12,12),(14,6),(12,1),(14,11),(2,16),(4,6),(2,5),(4,11),(2,10),(4,16),(2,15),(4,5),(2,4),(4,10),(2,9),(4,15),(2,14),(4,4),(2,3),(4,9),(2,8),(4,14),(2,13),(4,3),(2,2),(4,8),(2,7),(4,13),(2,12),(4,2),(2,1),(4,7),(2,6),(4,12),(2,11),(4,1)]\n",
    "magenta_23_address_primitive_table=[(9,6),(10,16),(9,11),(10,5),(9,16),(10,10),(9,5),(10,15),(9,10),(10,4),(9,15),(10,9),(9,4),(10,14),(9,9),(10,3),(9,14),(10,8),(9,3),(10,13),(9,8),(10,2),(9,13),(10,7),(9,2),(10,12),(9,7),(10,1),(9,12),(10,6),(9,1),(10,11),(5,6),(6,16),(5,11),(6,5),(5,16),(6,10),(5,5),(6,15),(5,10),(6,4),(5,15),(6,9),(5,4),(6,14),(5,9),(6,3),(5,14),(6,8),(5,3),(6,13),(5,8),(6,2),(5,13),(6,7),(5,2),(6,12),(5,7),(6,1),(5,12),(6,6),(5,1),(6,11)]\n",
    "\n",
    "\n",
    "sum_pad_c_lr = pad_total\n",
    "sum_pad_c_rr = pad_total - pad_rows\n",
    "sum_pad_m_lr = pad_total - pad_rows - pad_color\n",
    "sum_pad_m_rr = pad_total - pad_rows - pad_color - pad_rows\n",
    "sum_pad_y_lr = pad_total - pad_rows - pad_color - pad_rows - pad_color\n",
    "sum_pad_y_rr = pad_total - pad_rows - pad_color - pad_rows - pad_color - pad_rows"
   ]
  },
  {
   "cell_type": "code",
   "execution_count": 21,
   "id": "aeda963a-8168-4d2b-865e-46a94c3e8f88",
   "metadata": {},
   "outputs": [],
   "source": [
    "c_arr, m_arr, y_arr, k_arr = load_cmyk_image(\"testorder.tiff\")\n",
    "\n",
    "image_width = c_arr.shape[1]\n",
    "image_width_with_padding = image_width + pad_total + pad_total\n",
    "\n",
    "c_bin = convert_to_binary(c_arr)\n",
    "m_bin = convert_to_binary(m_arr)\n",
    "y_bin = convert_to_binary(y_arr)\n",
    "\n",
    "c_bin_padded = np.pad(c_bin, ((0, 0), (pad_total, pad_total)), mode='constant', constant_values=0)\n",
    "m_bin_padded = np.pad(m_bin, ((0, 0), (pad_total, pad_total)), mode='constant', constant_values=0)\n",
    "y_bin_padded = np.pad(y_bin, ((0, 0), (pad_total, pad_total)), mode='constant', constant_values=0)\n",
    "\n",
    "slices_c = split_with_padding(c_bin_padded, chunk_height=slice_height) #np.array_split(c_bin_padded, range(slice_height, c_bin.shape[0], slice_height))\n",
    "slices_m = split_with_padding(m_bin_padded, chunk_height=slice_height) #np.array_split(m_bin_padded, range(slice_height, m_bin.shape[0], slice_height))\n",
    "slices_y = split_with_padding(y_bin_padded, chunk_height=slice_height) #np.array_split(y_bin_padded, range(slice_height, y_bin.shape[0], slice_height))"
   ]
  },
  {
   "cell_type": "code",
   "execution_count": null,
   "id": "711f6001-7f0f-4c2f-9102-bbc656ffcdf7",
   "metadata": {},
   "outputs": [],
   "source": [
    "slices_print_data = []\n",
    "for slice_num in range(len(slices_c)):\n",
    "    display(Image.fromarray(((1 - slices_c[slice_num]) * 255), mode='L'))\n",
    "    slices_print_data.append(generate_print_data(slices_c[slice_num],slices_m[slice_num],slices_y[slice_num]))"
   ]
  },
  {
   "cell_type": "code",
   "execution_count": 11,
   "id": "e5875bfd-563f-4864-9579-6a8f171d61ba",
   "metadata": {},
   "outputs": [
    {
     "data": {
      "text/plain": [
       "10"
      ]
     },
     "execution_count": 11,
     "metadata": {},
     "output_type": "execute_result"
    }
   ],
   "source": [
    "len(slices_print_data)"
   ]
  },
  {
   "cell_type": "code",
   "execution_count": 12,
   "id": "ab3b7f46-e5b1-43ca-9ff0-707b301e3768",
   "metadata": {},
   "outputs": [],
   "source": [
    "output_dict = {\n",
    "    \"width\": image_width,\n",
    "    \"slices\": slices_print_data\n",
    "}"
   ]
  },
  {
   "cell_type": "code",
   "execution_count": 13,
   "id": "be160b57-4153-424d-906f-14e9f826a9b9",
   "metadata": {},
   "outputs": [],
   "source": [
    "with open(\"output.json\", \"w\") as json_file:\n",
    "    json.dump(output_dict, json_file, indent=4)"
   ]
  },
  {
   "cell_type": "code",
   "execution_count": null,
   "id": "20d195f7-c528-4535-a772-53b81a41d9bd",
   "metadata": {},
   "outputs": [],
   "source": []
  },
  {
   "cell_type": "code",
   "execution_count": null,
   "id": "22673cf9-cb7d-42b4-bf11-f6ae73853453",
   "metadata": {},
   "outputs": [],
   "source": []
  }
 ],
 "metadata": {
  "kernelspec": {
   "display_name": "Python 3 (ipykernel)",
   "language": "python",
   "name": "python3"
  },
  "language_info": {
   "codemirror_mode": {
    "name": "ipython",
    "version": 3
   },
   "file_extension": ".py",
   "mimetype": "text/x-python",
   "name": "python",
   "nbconvert_exporter": "python",
   "pygments_lexer": "ipython3",
   "version": "3.13.3"
  }
 },
 "nbformat": 4,
 "nbformat_minor": 5
}
